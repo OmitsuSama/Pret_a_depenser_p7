{
 "cells": [
  {
   "cell_type": "markdown",
   "id": "66d67610-3290-416e-b44d-7c7efe81c686",
   "metadata": {
    "id": "7e5fec22"
   },
   "source": [
    "# Projet 7 : Implémentez un modèle de scoring\n",
    "\n",
    "Vous êtes Data Scientist au sein d'une société financière, nommée **\"Prêt à dépenser\"**, qui propose des crédits à la consommation pour des personnes ayant peu ou pas du tout d'historique de prêt.\n",
    "\n",
    "L’entreprise souhaite **mettre en œuvre un outil de “scoring crédit” pour calculer la probabilité** qu’un client rembourse son crédit, puis classifie la demande en crédit accordé ou refusé. Elle souhaite donc développer un **algorithme de classification** en s’appuyant sur des sources de données variées (données comportementales, données provenant d'autres institutions financières, etc.).\n",
    "\n",
    "De plus, les chargés de relation client ont fait remonter le fait que les clients sont de plus en plus demandeurs de **transparence** vis-à-vis des décisions d’octroi de crédit. Cette demande de transparence des clients va tout à fait dans le sens des valeurs que l’entreprise veut incarner.\n",
    "\n",
    "**Prêt à dépenser** décide donc de **développer un dashboard interactif** pour que les chargés de relation client puissent à la fois expliquer de façon la plus transparente possible les décisions d’octroi de crédit, mais également permettre à leurs clients de disposer de leurs informations personnelles et de les explorer facilement.\n",
    "\n",
    "## Votre mission\n",
    "\n",
    "1- Construire un modèle de scoring qui donnera une prédiction sur la probabilité de faillite d'un client de façon automatique. \n",
    "\n",
    "2- Construire un dashboard interactif à destination des gestionnaires de la relation client permettant d'interpréter les prédictions faites par le modèle, et d’améliorer la connaissance client des chargés de relation client.\n",
    "\n",
    "**Michaël**, votre manager, vous incite à sélectionner un kernel Kaggle pour vous faciliter la préparation des données nécessaires à l’élaboration du modèle de scoring. Vous analyserez ce kernel et l’adapterez pour vous assurer qu’il répond aux besoins de votre mission.\n",
    "\n",
    "## Spécifications du dashboard\n",
    "Michaël vous a fourni des spécifications pour le dashboard interactif. Celui-ci devra contenir au minimum les fonctionnalités suivantes :\n",
    "\n",
    "- Permettre de visualiser le score et l’interprétation de ce score pour chaque client de façon intelligible pour une personne non experte en data science.\n",
    "- Permettre de visualiser des informations descriptives relatives à un client (via un système de filtre).\n",
    "- Permettre de comparer les informations descriptives relatives à un client à l’ensemble des clients ou à un groupe de clients similaires.\n",
    "\n",
    "Lien :\n",
    "- Lien Github = https://github.com/OmitsuSama/Pret_a_depenser_p7\n",
    "- Lien Dashboard = "
   ]
  },
  {
   "cell_type": "markdown",
   "id": "eb394d06-9609-46df-b802-90c50cab351d",
   "metadata": {
    "id": "60fda27e"
   },
   "source": [
    "-----------------\n",
    "# <font color='blue'>I. Preprocessing </font> "
   ]
  },
  {
   "cell_type": "markdown",
   "id": "3fa42190-2200-4a9f-ad26-b6d84373e366",
   "metadata": {
    "id": "b36392a8",
    "tags": []
   },
   "source": [
    "### Chargement des librairies nécessaires"
   ]
  },
  {
   "cell_type": "code",
   "execution_count": 1,
   "id": "014a146c-5f31-4125-b857-e88b65f2ca1f",
   "metadata": {
    "colab": {
     "base_uri": "https://localhost:8080/"
    },
    "id": "f31987a5",
    "outputId": "6bde7473-977c-400a-e306-af88062b013e"
   },
   "outputs": [
    {
     "name": "stdout",
     "output_type": "stream",
     "text": [
      "Requirement already satisfied: lightgbm in c:\\users\\latti\\anaconda3\\lib\\site-packages (3.3.2)\n",
      "Requirement already satisfied: numpy in c:\\users\\latti\\anaconda3\\lib\\site-packages (from lightgbm) (1.21.5)\n",
      "Requirement already satisfied: wheel in c:\\users\\latti\\anaconda3\\lib\\site-packages (from lightgbm) (0.37.1)\n",
      "Requirement already satisfied: scikit-learn!=0.22.0 in c:\\users\\latti\\anaconda3\\lib\\site-packages (from lightgbm) (1.0.2)\n",
      "Requirement already satisfied: scipy in c:\\users\\latti\\anaconda3\\lib\\site-packages (from lightgbm) (1.7.1)\n",
      "Requirement already satisfied: joblib>=0.11 in c:\\users\\latti\\anaconda3\\lib\\site-packages (from scikit-learn!=0.22.0->lightgbm) (1.1.0)\n",
      "Requirement already satisfied: threadpoolctl>=2.0.0 in c:\\users\\latti\\anaconda3\\lib\\site-packages (from scikit-learn!=0.22.0->lightgbm) (2.2.0)\n"
     ]
    }
   ],
   "source": [
    "!pip install lightgbm "
   ]
  },
  {
   "cell_type": "code",
   "execution_count": 2,
   "id": "861026a4-e6d3-4e84-a16e-80c83af735ab",
   "metadata": {
    "colab": {
     "base_uri": "https://localhost:8080/"
    },
    "id": "mzJ4FvXvPDXB",
    "outputId": "f6bce422-70e5-493f-a2a7-3a61e000b0dc"
   },
   "outputs": [
    {
     "name": "stdout",
     "output_type": "stream",
     "text": [
      "Requirement already satisfied: featuretools in c:\\users\\latti\\anaconda3\\lib\\site-packages (1.12.1)\n",
      "Requirement already satisfied: distributed>=2021.10.0 in c:\\users\\latti\\anaconda3\\lib\\site-packages (from featuretools) (2021.10.0)\n",
      "Requirement already satisfied: holidays>=0.13 in c:\\users\\latti\\anaconda3\\lib\\site-packages (from featuretools) (0.14.2)\n",
      "Requirement already satisfied: pandas>=1.3.0 in c:\\users\\latti\\anaconda3\\lib\\site-packages (from featuretools) (1.4.3)\n",
      "Requirement already satisfied: cloudpickle>=1.5.0 in c:\\users\\latti\\anaconda3\\lib\\site-packages (from featuretools) (2.0.0)\n",
      "Requirement already satisfied: psutil>=5.6.6 in c:\\users\\latti\\anaconda3\\lib\\site-packages (from featuretools) (5.9.0)\n",
      "Requirement already satisfied: tqdm>=4.32.0 in c:\\users\\latti\\anaconda3\\lib\\site-packages (from featuretools) (4.64.0)\n",
      "Requirement already satisfied: scipy>=1.3.3 in c:\\users\\latti\\anaconda3\\lib\\site-packages (from featuretools) (1.7.1)\n",
      "Requirement already satisfied: woodwork>=0.16.2 in c:\\users\\latti\\anaconda3\\lib\\site-packages (from featuretools) (0.17.2)\n",
      "Requirement already satisfied: numpy>=1.21.0 in c:\\users\\latti\\anaconda3\\lib\\site-packages (from featuretools) (1.21.5)\n",
      "Requirement already satisfied: click>=7.0.0 in c:\\users\\latti\\anaconda3\\lib\\site-packages (from featuretools) (8.0.4)\n",
      "Requirement already satisfied: dask[dataframe]>=2021.10.0 in c:\\users\\latti\\anaconda3\\lib\\site-packages (from featuretools) (2021.10.0)\n",
      "Requirement already satisfied: colorama in c:\\users\\latti\\anaconda3\\lib\\site-packages (from click>=7.0.0->featuretools) (0.4.5)\n",
      "Requirement already satisfied: fsspec>=0.6.0 in c:\\users\\latti\\anaconda3\\lib\\site-packages (from dask[dataframe]>=2021.10.0->featuretools) (2022.7.1)\n",
      "Requirement already satisfied: packaging>=20.0 in c:\\users\\latti\\anaconda3\\lib\\site-packages (from dask[dataframe]>=2021.10.0->featuretools) (21.3)\n",
      "Requirement already satisfied: partd>=0.3.10 in c:\\users\\latti\\anaconda3\\lib\\site-packages (from dask[dataframe]>=2021.10.0->featuretools) (1.2.0)\n",
      "Requirement already satisfied: pyyaml in c:\\users\\latti\\anaconda3\\lib\\site-packages (from dask[dataframe]>=2021.10.0->featuretools) (6.0)\n",
      "Requirement already satisfied: toolz>=0.8.2 in c:\\users\\latti\\anaconda3\\lib\\site-packages (from dask[dataframe]>=2021.10.0->featuretools) (0.11.2)\n",
      "Requirement already satisfied: setuptools in c:\\users\\latti\\anaconda3\\lib\\site-packages (from distributed>=2021.10.0->featuretools) (63.4.1)\n",
      "Requirement already satisfied: msgpack>=0.6.0 in c:\\users\\latti\\anaconda3\\lib\\site-packages (from distributed>=2021.10.0->featuretools) (1.0.3)\n",
      "Requirement already satisfied: tornado>=6.0.3 in c:\\users\\latti\\anaconda3\\lib\\site-packages (from distributed>=2021.10.0->featuretools) (6.1)\n",
      "Requirement already satisfied: tblib>=1.6.0 in c:\\users\\latti\\anaconda3\\lib\\site-packages (from distributed>=2021.10.0->featuretools) (1.7.0)\n",
      "Requirement already satisfied: zict>=0.1.3 in c:\\users\\latti\\anaconda3\\lib\\site-packages (from distributed>=2021.10.0->featuretools) (2.1.0)\n",
      "Requirement already satisfied: jinja2 in c:\\users\\latti\\anaconda3\\lib\\site-packages (from distributed>=2021.10.0->featuretools) (2.11.3)\n",
      "Requirement already satisfied: sortedcontainers!=2.0.0,!=2.0.1 in c:\\users\\latti\\anaconda3\\lib\\site-packages (from distributed>=2021.10.0->featuretools) (2.4.0)\n",
      "Requirement already satisfied: hijri-converter in c:\\users\\latti\\anaconda3\\lib\\site-packages (from holidays>=0.13->featuretools) (2.2.4)\n",
      "Requirement already satisfied: convertdate>=2.3.0 in c:\\users\\latti\\anaconda3\\lib\\site-packages (from holidays>=0.13->featuretools) (2.4.0)\n",
      "Requirement already satisfied: korean-lunar-calendar in c:\\users\\latti\\anaconda3\\lib\\site-packages (from holidays>=0.13->featuretools) (0.2.1)\n",
      "Requirement already satisfied: python-dateutil in c:\\users\\latti\\anaconda3\\lib\\site-packages (from holidays>=0.13->featuretools) (2.8.2)\n",
      "Requirement already satisfied: pytz>=2020.1 in c:\\users\\latti\\anaconda3\\lib\\site-packages (from pandas>=1.3.0->featuretools) (2022.1)\n",
      "Requirement already satisfied: scikit-learn>=0.22 in c:\\users\\latti\\anaconda3\\lib\\site-packages (from woodwork>=0.16.2->featuretools) (1.0.2)\n",
      "Requirement already satisfied: pymeeus<=1,>=0.3.13 in c:\\users\\latti\\anaconda3\\lib\\site-packages (from convertdate>=2.3.0->holidays>=0.13->featuretools) (0.5.11)\n",
      "Requirement already satisfied: pyparsing!=3.0.5,>=2.0.2 in c:\\users\\latti\\anaconda3\\lib\\site-packages (from packaging>=20.0->dask[dataframe]>=2021.10.0->featuretools) (3.0.4)\n",
      "Requirement already satisfied: locket in c:\\users\\latti\\anaconda3\\lib\\site-packages (from partd>=0.3.10->dask[dataframe]>=2021.10.0->featuretools) (1.0.0)\n",
      "Requirement already satisfied: six>=1.5 in c:\\users\\latti\\anaconda3\\lib\\site-packages (from python-dateutil->holidays>=0.13->featuretools) (1.16.0)\n",
      "Requirement already satisfied: joblib>=0.11 in c:\\users\\latti\\anaconda3\\lib\\site-packages (from scikit-learn>=0.22->woodwork>=0.16.2->featuretools) (1.1.0)\n",
      "Requirement already satisfied: threadpoolctl>=2.0.0 in c:\\users\\latti\\anaconda3\\lib\\site-packages (from scikit-learn>=0.22->woodwork>=0.16.2->featuretools) (2.2.0)\n",
      "Requirement already satisfied: heapdict in c:\\users\\latti\\anaconda3\\lib\\site-packages (from zict>=0.1.3->distributed>=2021.10.0->featuretools) (1.0.1)\n",
      "Requirement already satisfied: MarkupSafe>=0.23 in c:\\users\\latti\\anaconda3\\lib\\site-packages (from jinja2->distributed>=2021.10.0->featuretools) (2.1.1)\n"
     ]
    }
   ],
   "source": [
    "!pip install featuretools"
   ]
  },
  {
   "cell_type": "code",
   "execution_count": 3,
   "id": "97ebdd4d-1c7b-417c-ac94-cda6c64465af",
   "metadata": {
    "colab": {
     "base_uri": "https://localhost:8080/"
    },
    "id": "85915da5",
    "outputId": "4254da8a-80a2-451d-f1aa-f5a954a7e5ff"
   },
   "outputs": [
    {
     "name": "stderr",
     "output_type": "stream",
     "text": [
      "C:\\Users\\latti\\anaconda3\\lib\\site-packages\\xgboost\\compat.py:36: FutureWarning: pandas.Int64Index is deprecated and will be removed from pandas in a future version. Use pandas.Index with the appropriate dtype instead.\n",
      "  from pandas import MultiIndex, Int64Index\n"
     ]
    }
   ],
   "source": [
    "#data\n",
    "import os\n",
    "import pandas as pd\n",
    "import numpy as np\n",
    "import missingno as msno\n",
    "from scipy import stats\n",
    "\n",
    "#plot \n",
    "import matplotlib.pyplot as plt\n",
    "%matplotlib inline\n",
    "import seaborn as sns\n",
    "\n",
    "# Transformations de variables\n",
    "from sklearn.preprocessing import LabelEncoder, OneHotEncoder, RobustScaler\n",
    "from sklearn.impute import SimpleImputer\n",
    "from sklearn.pipeline import Pipeline\n",
    "\n",
    "# Feature engineering\n",
    "import featuretools as ft\n",
    "from featuretools import selection\n",
    "\n",
    "# Data Augmentation\n",
    "#from imblearn.over_sampling import SMOTE\n",
    "\n",
    "# Metrics de ML\n",
    "from sklearn.metrics import auc, roc_curve, roc_auc_score, make_scorer\n",
    "from sklearn.metrics import precision_recall_curve\n",
    "\n",
    "# Packages de cross_validation\n",
    "from sklearn.model_selection import cross_val_score, cross_val_predict, StratifiedKFold\n",
    "from sklearn.calibration import calibration_curve, CalibratedClassifierCV\n",
    "\n",
    "# Packages hyperopt pour la séléction d'hyperparamètres\n",
    "#from hyperopt import hp, tpe\n",
    "#from hyperopt.fmin import fmin\n",
    "\n",
    "\n",
    "# Modèles de ML\n",
    "from xgboost import XGBClassifier\n",
    "from sklearn.ensemble import RandomForestClassifier\n",
    "from sklearn.linear_model import LogisticRegression\n",
    "from sklearn.neighbors import KNeighborsClassifier\n",
    "from sklearn.neural_network import MLPClassifier\n",
    "from sklearn.dummy import DummyClassifier\n",
    "from lightgbm import LGBMClassifier\n",
    "from sklearn.svm import SVC\n",
    "from sklearn.naive_bayes import GaussianNB\n",
    "from sklearn.linear_model import ElasticNet\n",
    "\n",
    "\n",
    "#from lightgbm import LGBMClassifier\n",
    "from sklearn.svm import SVC\n",
    "from sklearn.naive_bayes import GaussianNB\n",
    "from sklearn.linear_model import ElasticNet\n",
    "from xgboost import plot_importance\n",
    "\n",
    "# Librairies graphiques\n",
    "import plotly.offline as py\n",
    "import plotly.graph_objs as go\n",
    "import plotly.offline as offline\n",
    "import plotly.graph_objects as go\n",
    "from plotly.subplots import make_subplots\n",
    "\n",
    "\n",
    "#from imblearn.over_sampling import RandomOverSampler, SMOTE\n",
    "#from imblearn.under_sampling import RandomUnderSampler\n",
    "#from imblearn.pipeline import make_pipeline\n",
    "\n",
    "# Plot settings\n",
    "%matplotlib inline\n",
    "%config InlineBackend.figure_format = 'svg'\n",
    "sns.set()\n",
    "\n",
    "# Packages de cross_validation\n",
    "from sklearn.model_selection import cross_val_score, cross_val_predict\n",
    "from sklearn.model_selection import cross_validate\n",
    "from sklearn.calibration import calibration_curve, CalibratedClassifierCV\n",
    "from sklearn.model_selection import KFold, StratifiedKFold\n",
    "from sklearn.model_selection import train_test_split"
   ]
  },
  {
   "cell_type": "code",
   "execution_count": null,
   "id": "ff42a42a-00ce-4b18-a96a-1b20bf89f797",
   "metadata": {},
   "outputs": [],
   "source": []
  }
 ],
 "metadata": {
  "kernelspec": {
   "display_name": "Python 3 (ipykernel)",
   "language": "python",
   "name": "python3"
  },
  "language_info": {
   "codemirror_mode": {
    "name": "ipython",
    "version": 3
   },
   "file_extension": ".py",
   "mimetype": "text/x-python",
   "name": "python",
   "nbconvert_exporter": "python",
   "pygments_lexer": "ipython3",
   "version": "3.9.7"
  }
 },
 "nbformat": 4,
 "nbformat_minor": 5
}
